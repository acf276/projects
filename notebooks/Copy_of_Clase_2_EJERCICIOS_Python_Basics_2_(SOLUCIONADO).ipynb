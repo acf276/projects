{
  "cells": [
    {
      "cell_type": "markdown",
      "metadata": {
        "id": "DteJPuCxyU1M"
      },
      "source": [
        "![Nuclio logo](https://nuclio.school/wp-content/uploads/2018/12/nucleoDS-newBlack.png)"
      ]
    },
    {
      "cell_type": "markdown",
      "metadata": {
        "id": "RhfhYfahyU1U"
      },
      "source": [
        "# EJERCICIOS - Python Basics 2!"
      ]
    },
    {
      "cell_type": "markdown",
      "metadata": {
        "id": "6AcoCCTzyU1V"
      },
      "source": [
        "## Listas"
      ]
    },
    {
      "cell_type": "markdown",
      "metadata": {
        "id": "zwmPOD7kyU1X"
      },
      "source": [
        "1 - Construye una lista que contengo los siguientes elementos: manzanas, peras, plátanos, kiwis"
      ]
    },
    {
      "cell_type": "code",
      "execution_count": null,
      "metadata": {
        "id": "IBRAqaNYyU1Z",
        "outputId": "838e3c1c-b587-4b41-ff86-b30e82e70681"
      },
      "outputs": [
        {
          "data": {
            "text/plain": [
              "['manzanas', 'peras', 'plátanos', 'kiwis']"
            ]
          },
          "execution_count": 279,
          "metadata": {},
          "output_type": "execute_result"
        }
      ],
      "source": [
        "x = ['manzanas', 'peras', 'plátanos', 'kiwis']\n",
        "x"
      ]
    },
    {
      "cell_type": "markdown",
      "metadata": {
        "id": "3FV8kd-YyU1f"
      },
      "source": [
        "2 - ¿Cuál es el primer elemento de la lista? ¿Y el último? ¿Y el penúltimo?\n",
        "\n"
      ]
    },
    {
      "cell_type": "code",
      "execution_count": null,
      "metadata": {
        "id": "UUDLSW_9yU1g",
        "outputId": "35fd811b-c12a-4405-a485-d87d1249928c"
      },
      "outputs": [
        {
          "data": {
            "text/plain": [
              "'manzanas'"
            ]
          },
          "execution_count": 280,
          "metadata": {},
          "output_type": "execute_result"
        }
      ],
      "source": [
        "x[0] #primer elemento"
      ]
    },
    {
      "cell_type": "code",
      "execution_count": null,
      "metadata": {
        "id": "7Mld_475yU1h",
        "outputId": "910de3fa-14ad-4d87-a095-5b45de69c79d"
      },
      "outputs": [
        {
          "data": {
            "text/plain": [
              "'kiwis'"
            ]
          },
          "execution_count": 281,
          "metadata": {},
          "output_type": "execute_result"
        }
      ],
      "source": [
        "x[-1] #último elemento"
      ]
    },
    {
      "cell_type": "code",
      "execution_count": null,
      "metadata": {
        "id": "Sbffgj8HyU1j",
        "outputId": "f251ed59-266c-487c-a314-659deb114fdf"
      },
      "outputs": [
        {
          "data": {
            "text/plain": [
              "'plátanos'"
            ]
          },
          "execution_count": 282,
          "metadata": {},
          "output_type": "execute_result"
        }
      ],
      "source": [
        "x[-2] #penúltimo elemento"
      ]
    },
    {
      "cell_type": "markdown",
      "metadata": {
        "id": "m98ndOmgyU1k"
      },
      "source": [
        "3 - Selecciona los 3 primeros elementos de la lista"
      ]
    },
    {
      "cell_type": "code",
      "execution_count": null,
      "metadata": {
        "id": "Jh_R4BCjyU1k",
        "outputId": "1b0998cb-9885-48fa-ba09-c144c6e1b7a1"
      },
      "outputs": [
        {
          "data": {
            "text/plain": [
              "['manzanas', 'peras', 'plátanos']"
            ]
          },
          "execution_count": 283,
          "metadata": {},
          "output_type": "execute_result"
        }
      ],
      "source": [
        "x[0:3]"
      ]
    },
    {
      "cell_type": "markdown",
      "metadata": {
        "id": "plLZIiFXyU1l"
      },
      "source": [
        "4 - Cambia las manzanas por pomelos\n",
        "\n"
      ]
    },
    {
      "cell_type": "code",
      "execution_count": null,
      "metadata": {
        "id": "myDe3ipEyU1m",
        "outputId": "e8a32fc0-91cc-4821-a558-6cb476c8d4ff"
      },
      "outputs": [
        {
          "data": {
            "text/plain": [
              "['pomelos', 'peras', 'plátanos', 'kiwis']"
            ]
          },
          "execution_count": 284,
          "metadata": {},
          "output_type": "execute_result"
        }
      ],
      "source": [
        "x[0] = 'pomelos'\n",
        "x"
      ]
    },
    {
      "cell_type": "markdown",
      "metadata": {
        "id": "ChZp9csYyU1n"
      },
      "source": [
        "5 - ¿Cuántos elementos tiene mi lista? "
      ]
    },
    {
      "cell_type": "code",
      "execution_count": null,
      "metadata": {
        "id": "NmAd-eNCyU1o",
        "outputId": "2d16041c-240c-4d2c-ef89-fa25b644ea5d"
      },
      "outputs": [
        {
          "data": {
            "text/plain": [
              "4"
            ]
          },
          "execution_count": 285,
          "metadata": {},
          "output_type": "execute_result"
        }
      ],
      "source": [
        "len(x)"
      ]
    },
    {
      "cell_type": "markdown",
      "metadata": {
        "id": "srjkygHsyU1o"
      },
      "source": [
        "6 - Añade a la lista una piña!\n",
        "\n"
      ]
    },
    {
      "cell_type": "code",
      "execution_count": null,
      "metadata": {
        "id": "ULlhWvszyU1p",
        "outputId": "596c0c07-785d-4256-baad-e21e66da2cfa"
      },
      "outputs": [
        {
          "data": {
            "text/plain": [
              "['pomelos', 'peras', 'plátanos', 'kiwis', 'piña']"
            ]
          },
          "execution_count": 286,
          "metadata": {},
          "output_type": "execute_result"
        }
      ],
      "source": [
        "x.append('piña')\n",
        "x"
      ]
    },
    {
      "cell_type": "markdown",
      "metadata": {
        "id": "9_T9KP2RyU1q"
      },
      "source": [
        "7 - Añade como 2º elemento de la lista unas zanahorias\n",
        "\n"
      ]
    },
    {
      "cell_type": "code",
      "execution_count": null,
      "metadata": {
        "id": "fpYeif8CyU1r",
        "outputId": "0840a4eb-ee64-4b85-8912-ac2d15801fc3"
      },
      "outputs": [
        {
          "data": {
            "text/plain": [
              "['pomelos', 'zanahorias', 'peras', 'plátanos', 'kiwis', 'piña']"
            ]
          },
          "execution_count": 287,
          "metadata": {},
          "output_type": "execute_result"
        }
      ],
      "source": [
        "x.insert(1, 'zanahorias')\n",
        "x"
      ]
    },
    {
      "cell_type": "markdown",
      "metadata": {
        "id": "9hgIO2TJyU1s"
      },
      "source": [
        "8 - Borra los plátanos."
      ]
    },
    {
      "cell_type": "code",
      "execution_count": null,
      "metadata": {
        "id": "s_88lwaYyU1t",
        "outputId": "dfdfc6d4-eda9-4030-8a4f-47485134ba6e"
      },
      "outputs": [
        {
          "data": {
            "text/plain": [
              "['pomelos', 'zanahorias', 'peras', 'kiwis', 'piña']"
            ]
          },
          "execution_count": 288,
          "metadata": {},
          "output_type": "execute_result"
        }
      ],
      "source": [
        "x.remove('plátanos')\n",
        "x"
      ]
    },
    {
      "cell_type": "markdown",
      "metadata": {
        "id": "QikELN2ryU1u"
      },
      "source": [
        "9 - No tengo tiempo de comprar tantas cosas, borra el último elemento de la lista!"
      ]
    },
    {
      "cell_type": "code",
      "execution_count": null,
      "metadata": {
        "id": "g3vjAhaSyU1v",
        "outputId": "8ca60cc6-7551-45a9-ed43-2a2927929933"
      },
      "outputs": [
        {
          "data": {
            "text/plain": [
              "['pomelos', 'zanahorias', 'peras', 'kiwis']"
            ]
          },
          "execution_count": 289,
          "metadata": {},
          "output_type": "execute_result"
        }
      ],
      "source": [
        "x.pop(len(x)-1)\n",
        "x"
      ]
    },
    {
      "cell_type": "code",
      "execution_count": null,
      "metadata": {
        "id": "5CmrcxduyU1w"
      },
      "outputs": [],
      "source": [
        "# otra opción:\n",
        "#x.remove(x[-1])\n",
        "#x"
      ]
    },
    {
      "cell_type": "markdown",
      "metadata": {
        "id": "UkhiBN_TyU1w"
      },
      "source": [
        "10 - Voy a cambiar mi ruta de la compra, revierte el orden de mi lista"
      ]
    },
    {
      "cell_type": "code",
      "execution_count": null,
      "metadata": {
        "id": "lV2AzGg-yU1x",
        "outputId": "5ef6d00c-9b95-4292-dc2d-b951ef00cf14"
      },
      "outputs": [
        {
          "data": {
            "text/plain": [
              "['kiwis', 'peras', 'zanahorias', 'pomelos']"
            ]
          },
          "execution_count": 291,
          "metadata": {},
          "output_type": "execute_result"
        }
      ],
      "source": [
        "x.reverse()\n",
        "x"
      ]
    },
    {
      "cell_type": "markdown",
      "metadata": {
        "id": "1CfuMN9UyU1y"
      },
      "source": [
        "11 - Mi amigo me pide si le puedo ir a comprar unas cuantas cosas que necesita. Añadiré a mi lista su lista de la compra:\n",
        "- desodorante\n",
        "- champú\n",
        "- pan\n",
        "- gomina\n",
        "- chicles"
      ]
    },
    {
      "cell_type": "code",
      "execution_count": null,
      "metadata": {
        "id": "ldo0eoAWyU1y",
        "outputId": "7cf7358b-fae7-4198-e6b6-287fe50ba6f8"
      },
      "outputs": [
        {
          "data": {
            "text/plain": [
              "['kiwis',\n",
              " 'peras',\n",
              " 'zanahorias',\n",
              " 'pomelos',\n",
              " 'desodorante',\n",
              " 'champú',\n",
              " 'pan',\n",
              " 'gomina',\n",
              " 'chicles']"
            ]
          },
          "execution_count": 292,
          "metadata": {},
          "output_type": "execute_result"
        }
      ],
      "source": [
        "y = ['desodorante', 'champú', 'pan', 'gomina', 'chicles']\n",
        "x = x + y\n",
        "x"
      ]
    },
    {
      "cell_type": "markdown",
      "metadata": {
        "id": "LWxrl5GTyU1z"
      },
      "source": [
        "## Tuplas"
      ]
    },
    {
      "cell_type": "markdown",
      "metadata": {
        "id": "lfunjAmYyU10"
      },
      "source": [
        "12 - ¿Cuál es la diferencia entre una tupla y una lista?"
      ]
    },
    {
      "cell_type": "code",
      "execution_count": null,
      "metadata": {
        "id": "_qhOwXGRyU10"
      },
      "outputs": [],
      "source": [
        "# una tupla no puede ser modificada una vez que ha sido creada. A diferencia de una Lista"
      ]
    },
    {
      "cell_type": "markdown",
      "metadata": {
        "id": "hFJf_LTnyU11"
      },
      "source": [
        "13 - Crea una tupla con el elemento a, b, c"
      ]
    },
    {
      "cell_type": "code",
      "execution_count": null,
      "metadata": {
        "id": "u2c6Zyz2yU11",
        "outputId": "bb4c2c06-22f2-4ab0-fabf-16c1c734e402"
      },
      "outputs": [
        {
          "data": {
            "text/plain": [
              "tuple"
            ]
          },
          "execution_count": 294,
          "metadata": {},
          "output_type": "execute_result"
        }
      ],
      "source": [
        "tupla = ('a', 'b', 'c')\n",
        "type(tupla)"
      ]
    },
    {
      "cell_type": "markdown",
      "metadata": {
        "id": "kJz-RmWmyU12"
      },
      "source": [
        "14 - Convierte tu lista de la compra a una tupla "
      ]
    },
    {
      "cell_type": "code",
      "execution_count": null,
      "metadata": {
        "id": "RWFpJWj_yU13",
        "outputId": "f7ad2133-87fd-4d0a-a9d8-f26d7b632d5a"
      },
      "outputs": [
        {
          "data": {
            "text/plain": [
              "('kiwis',\n",
              " 'peras',\n",
              " 'zanahorias',\n",
              " 'pomelos',\n",
              " 'desodorante',\n",
              " 'champú',\n",
              " 'pan',\n",
              " 'gomina',\n",
              " 'chicles')"
            ]
          },
          "execution_count": 295,
          "metadata": {},
          "output_type": "execute_result"
        }
      ],
      "source": [
        "tup = tuple(x)\n",
        "tup"
      ]
    },
    {
      "cell_type": "markdown",
      "metadata": {
        "id": "L96EN_B_yU14"
      },
      "source": [
        "15 - ¿Cuántos elementos tiene mi tupla? "
      ]
    },
    {
      "cell_type": "code",
      "execution_count": null,
      "metadata": {
        "id": "rUxpV70kyU14",
        "outputId": "32add2b5-c8ca-4a9e-ca0a-1e01d09fd141"
      },
      "outputs": [
        {
          "data": {
            "text/plain": [
              "9"
            ]
          },
          "execution_count": 296,
          "metadata": {},
          "output_type": "execute_result"
        }
      ],
      "source": [
        "len(tup)"
      ]
    },
    {
      "cell_type": "markdown",
      "metadata": {
        "ExecuteTime": {
          "end_time": "2020-02-16T19:27:27.210778Z",
          "start_time": "2020-02-16T19:27:27.204153Z"
        },
        "id": "KM1_7gsCyU15"
      },
      "source": [
        "16 - ¿Si estoy comprando las zanahorias, cuantos elementos compraré antes de comprar la gomina?"
      ]
    },
    {
      "cell_type": "code",
      "execution_count": null,
      "metadata": {
        "id": "77ipHCg8yU16",
        "outputId": "c5681db0-f084-4f3c-a933-fb3e0cca0919"
      },
      "outputs": [
        {
          "data": {
            "text/plain": [
              "2"
            ]
          },
          "execution_count": 297,
          "metadata": {},
          "output_type": "execute_result"
        }
      ],
      "source": [
        "tup.index('zanahorias')"
      ]
    },
    {
      "cell_type": "code",
      "execution_count": null,
      "metadata": {
        "id": "EhaesWcZyU2X",
        "outputId": "d4b91a0a-03d2-43e7-cda5-f02e7cad11ee"
      },
      "outputs": [
        {
          "data": {
            "text/plain": [
              "7"
            ]
          },
          "execution_count": 298,
          "metadata": {},
          "output_type": "execute_result"
        }
      ],
      "source": [
        "tup.index('gomina')"
      ]
    },
    {
      "cell_type": "code",
      "execution_count": null,
      "metadata": {
        "id": "Se8AooE_yU2Y",
        "outputId": "b05e4c37-c5e9-4a0e-b043-fc4f96958778"
      },
      "outputs": [
        {
          "data": {
            "text/plain": [
              "4"
            ]
          },
          "execution_count": 299,
          "metadata": {},
          "output_type": "execute_result"
        }
      ],
      "source": [
        "tup.index('gomina') - tup.index('zanahorias') - 1"
      ]
    },
    {
      "cell_type": "markdown",
      "metadata": {
        "id": "6jghYRW3yU2Z"
      },
      "source": [
        "17 - Quiero añadir ahora jabón a mi tupla de la compra, puedo ?"
      ]
    },
    {
      "cell_type": "code",
      "execution_count": null,
      "metadata": {
        "id": "AIkYq8uYyU2a"
      },
      "outputs": [],
      "source": [
        "# No es posible"
      ]
    },
    {
      "cell_type": "markdown",
      "metadata": {
        "id": "TmPTPR9oyU2a"
      },
      "source": [
        "18 - Una tupla es ordenada? Y una lista?"
      ]
    },
    {
      "cell_type": "code",
      "execution_count": null,
      "metadata": {
        "id": "wBlCCnskyU2b"
      },
      "outputs": [],
      "source": [
        "# La tupla y la lista son ordenadas"
      ]
    },
    {
      "cell_type": "markdown",
      "metadata": {
        "id": "QpeBNTy_yU2b"
      },
      "source": [
        "## Sets"
      ]
    },
    {
      "cell_type": "markdown",
      "metadata": {
        "id": "Blpcol8YyU2c"
      },
      "source": [
        "19 - ¿Cuál es la diferencia entre un set y una lista?"
      ]
    },
    {
      "cell_type": "code",
      "execution_count": null,
      "metadata": {
        "id": "SYG_e2RuyU2d"
      },
      "outputs": [],
      "source": [
        "# un set no tiene orden en sus elementos, diferente a una lista."
      ]
    },
    {
      "cell_type": "markdown",
      "metadata": {
        "id": "UYSdSUo4yU2d"
      },
      "source": [
        "20 - ¿Cuál es la diferencia entre un set y una tupla?"
      ]
    },
    {
      "cell_type": "code",
      "execution_count": null,
      "metadata": {
        "id": "GGBMeRF_yU2e"
      },
      "outputs": [],
      "source": [
        "# Un set no es ordenado, la tupla sí.\n",
        "\n",
        "# Un set es mutable, una tupla no"
      ]
    },
    {
      "cell_type": "markdown",
      "metadata": {
        "id": "-_rxeYqPyU2e"
      },
      "source": [
        "21 - Define un set de colores: azul, blanco, negro, rosa, rojo, amarillo, lila"
      ]
    },
    {
      "cell_type": "code",
      "execution_count": null,
      "metadata": {
        "id": "bJdplw0nyU2f",
        "outputId": "363083b4-5ed3-4796-c7aa-2a8a3084284c"
      },
      "outputs": [
        {
          "data": {
            "text/plain": [
              "{'amarillo', 'azul', 'blanco', 'lila', 'negro', 'rojo', 'rosa'}"
            ]
          },
          "execution_count": 304,
          "metadata": {},
          "output_type": "execute_result"
        }
      ],
      "source": [
        "set_1 = {'azul', 'blanco', 'negro', 'rosa', 'rojo', 'amarillo', 'lila'}\n",
        "set_1"
      ]
    },
    {
      "cell_type": "markdown",
      "metadata": {
        "id": "1DRuGC8syU2g"
      },
      "source": [
        "22 - ¿Que posición ocupa el color azul en el set?"
      ]
    },
    {
      "cell_type": "code",
      "execution_count": null,
      "metadata": {
        "id": "axvfRLd2yU2g"
      },
      "outputs": [],
      "source": [
        "# No! Al no estar indexado no existe el concepto de posición de los elementos en el set"
      ]
    },
    {
      "cell_type": "markdown",
      "metadata": {
        "id": "8ao7gSDfyU2h"
      },
      "source": [
        "23 - Añade el color gris al set"
      ]
    },
    {
      "cell_type": "code",
      "execution_count": null,
      "metadata": {
        "id": "IGOympBKyU2i",
        "outputId": "8be6057b-8ade-484e-e0ac-12b5e9c82273"
      },
      "outputs": [
        {
          "data": {
            "text/plain": [
              "{'amarillo', 'azul', 'blanco', 'gris', 'lila', 'negro', 'rojo', 'rosa'}"
            ]
          },
          "execution_count": 306,
          "metadata": {},
          "output_type": "execute_result"
        }
      ],
      "source": [
        "set_1.add('gris')\n",
        "set_1"
      ]
    },
    {
      "cell_type": "markdown",
      "metadata": {
        "id": "zzoPqE26yU2i"
      },
      "source": [
        "24 - Añade ahora varios colores: marrón, azul oscuro, naranja"
      ]
    },
    {
      "cell_type": "code",
      "execution_count": null,
      "metadata": {
        "id": "Q5dPYCLDyU2j",
        "outputId": "94dcf1b7-e362-4f3c-e8c4-ae49e4e354eb"
      },
      "outputs": [
        {
          "data": {
            "text/plain": [
              "{'amarillo',\n",
              " 'azul',\n",
              " 'azul oscuro',\n",
              " 'blanco',\n",
              " 'gris',\n",
              " 'lila',\n",
              " 'marrón',\n",
              " 'naranja',\n",
              " 'negro',\n",
              " 'rojo',\n",
              " 'rosa'}"
            ]
          },
          "execution_count": 307,
          "metadata": {},
          "output_type": "execute_result"
        }
      ],
      "source": [
        "set_2 = {'marrón', 'azul oscuro', 'naranja'}\n",
        "set_1.update(set_2)\n",
        "set_1"
      ]
    },
    {
      "cell_type": "markdown",
      "metadata": {
        "id": "EXDQPXIayU2k"
      },
      "source": [
        "25 - ¿Cuántos elementos tiene mi set?"
      ]
    },
    {
      "cell_type": "code",
      "execution_count": null,
      "metadata": {
        "id": "yG-NaGyxyU2k",
        "outputId": "c89279d7-edb9-45bd-9fd1-2ac766f15f50"
      },
      "outputs": [
        {
          "data": {
            "text/plain": [
              "11"
            ]
          },
          "execution_count": 308,
          "metadata": {},
          "output_type": "execute_result"
        }
      ],
      "source": [
        "len(set_1)"
      ]
    },
    {
      "cell_type": "markdown",
      "metadata": {
        "id": "BbvV9Y3qyU2l"
      },
      "source": [
        "26 - Genera un nuevo set con los elementos 1,2,3,4,5"
      ]
    },
    {
      "cell_type": "code",
      "execution_count": null,
      "metadata": {
        "id": "7Y_-CKPQyU2m",
        "outputId": "1a6e6763-f438-4fd2-8ff0-95d052927fb7"
      },
      "outputs": [
        {
          "data": {
            "text/plain": [
              "{1, 2, 3, 4, 5}"
            ]
          },
          "execution_count": 309,
          "metadata": {},
          "output_type": "execute_result"
        }
      ],
      "source": [
        "set_4 = {1,2,3,4,5}\n",
        "set_4"
      ]
    },
    {
      "cell_type": "markdown",
      "metadata": {
        "id": "RLfAH_BiyU2m"
      },
      "source": [
        "27 - Une un set con el otro"
      ]
    },
    {
      "cell_type": "code",
      "execution_count": null,
      "metadata": {
        "id": "rSSh5wA9yU2n",
        "outputId": "d44a3d08-07e5-462c-c33c-48bf7f54245e"
      },
      "outputs": [
        {
          "data": {
            "text/plain": [
              "{1,\n",
              " 2,\n",
              " 3,\n",
              " 4,\n",
              " 5,\n",
              " 'amarillo',\n",
              " 'azul',\n",
              " 'azul oscuro',\n",
              " 'blanco',\n",
              " 'gris',\n",
              " 'lila',\n",
              " 'marrón',\n",
              " 'naranja',\n",
              " 'negro',\n",
              " 'rojo',\n",
              " 'rosa'}"
            ]
          },
          "execution_count": 310,
          "metadata": {},
          "output_type": "execute_result"
        }
      ],
      "source": [
        "set_1.union(set_4)"
      ]
    },
    {
      "cell_type": "markdown",
      "metadata": {
        "id": "Xph83p2VyU2o"
      },
      "source": [
        "28 - Borra todos los elementos del set"
      ]
    },
    {
      "cell_type": "code",
      "execution_count": null,
      "metadata": {
        "id": "TrJQV7JQyU2p",
        "outputId": "c60b02ff-d93a-46f0-cd77-99f3d83921b8"
      },
      "outputs": [
        {
          "data": {
            "text/plain": [
              "set()"
            ]
          },
          "execution_count": 311,
          "metadata": {},
          "output_type": "execute_result"
        }
      ],
      "source": [
        "set_1.clear()\n",
        "set_1"
      ]
    },
    {
      "cell_type": "markdown",
      "metadata": {
        "id": "BEw-6PD3yU2q"
      },
      "source": [
        "## Diccionarios"
      ]
    },
    {
      "cell_type": "markdown",
      "metadata": {
        "id": "UbDvirGhyU2q"
      },
      "source": [
        "29 - Dado el siguiente diccionario: \n",
        "\n",
        "inventory = {\n",
        "    'gold' : 500,\n",
        "    'pouch' : ['flint', 'twine', 'gemstone'],\n",
        "    'backpack' : ['xylophone','dagger', 'bedroll','bread loaf']\n",
        "}\n",
        "\n",
        "\n",
        "Haz lo siguiente:\n",
        "- Añade una nueva categoría dentro del diccionario llamada 'pocket'\n",
        "- Define el valor de 'pocket' como una lista que contiene los siguientes elementos: 'seashell', 'strange', 'berry' y 'lint'\n",
        "- Ordena los elementos de la lista dentro de la categoría 'backpack'\n",
        "- Elimina el elemento 'dagger' de dentro de la categoría 'backpack'\n",
        "- Añade 50 como un nuevo elemento dentro de la categoría 'gold'"
      ]
    },
    {
      "cell_type": "code",
      "execution_count": null,
      "metadata": {
        "id": "ElaCJFZjyU2r"
      },
      "outputs": [],
      "source": [
        "inventory = { 'gold' : 500, \n",
        "             'pouch' : ['flint', 'twine', 'gemstone'], \n",
        "             'backpack' : ['xylophone','dagger', 'bedroll','bread loaf'] }"
      ]
    },
    {
      "cell_type": "code",
      "execution_count": null,
      "metadata": {
        "id": "rhkKSRgyyU2s",
        "outputId": "0cc3bdb3-75ac-4669-f724-ce755f864b72"
      },
      "outputs": [
        {
          "data": {
            "text/plain": [
              "{'gold': 500,\n",
              " 'pouch': ['flint', 'twine', 'gemstone'],\n",
              " 'backpack': ['xylophone', 'dagger', 'bedroll', 'bread loaf'],\n",
              " 'pocket': None}"
            ]
          },
          "execution_count": 313,
          "metadata": {},
          "output_type": "execute_result"
        }
      ],
      "source": [
        "inventory['pocket'] = None\n",
        "inventory"
      ]
    },
    {
      "cell_type": "code",
      "execution_count": null,
      "metadata": {
        "id": "vFxOoD9xyU2s",
        "outputId": "8703d117-542f-4527-c0a0-e18b9af63ca9"
      },
      "outputs": [
        {
          "data": {
            "text/plain": [
              "{'gold': 500,\n",
              " 'pouch': ['flint', 'twine', 'gemstone'],\n",
              " 'backpack': ['xylophone', 'dagger', 'bedroll', 'bread loaf'],\n",
              " 'pocket': ['seashell', 'strange', 'berry', 'lint']}"
            ]
          },
          "execution_count": 314,
          "metadata": {},
          "output_type": "execute_result"
        }
      ],
      "source": [
        "inventory['pocket'] = ['seashell', 'strange', 'berry', 'lint']\n",
        "inventory"
      ]
    },
    {
      "cell_type": "code",
      "execution_count": null,
      "metadata": {
        "id": "tisQ9ciCyU2u",
        "outputId": "e55d3288-e79b-4ded-ce70-0ea798bbec8a"
      },
      "outputs": [
        {
          "data": {
            "text/plain": [
              "{'gold': 500,\n",
              " 'pouch': ['flint', 'twine', 'gemstone'],\n",
              " 'backpack': ['bedroll', 'bread loaf', 'dagger', 'xylophone'],\n",
              " 'pocket': ['seashell', 'strange', 'berry', 'lint']}"
            ]
          },
          "execution_count": 315,
          "metadata": {},
          "output_type": "execute_result"
        }
      ],
      "source": [
        "inventory['backpack'].sort()\n",
        "inventory"
      ]
    },
    {
      "cell_type": "code",
      "execution_count": null,
      "metadata": {
        "id": "CferY6H5yU2u",
        "outputId": "0da79183-13a9-4b05-f54f-3481afa24287"
      },
      "outputs": [
        {
          "data": {
            "text/plain": [
              "{'gold': 500,\n",
              " 'pouch': ['flint', 'twine', 'gemstone'],\n",
              " 'backpack': ['bedroll', 'bread loaf', 'xylophone'],\n",
              " 'pocket': ['seashell', 'strange', 'berry', 'lint']}"
            ]
          },
          "execution_count": 316,
          "metadata": {},
          "output_type": "execute_result"
        }
      ],
      "source": [
        "inventory['backpack'].remove('dagger')\n",
        "inventory"
      ]
    },
    {
      "cell_type": "code",
      "execution_count": null,
      "metadata": {
        "id": "-vFISFtFyU2v",
        "outputId": "90c61c37-78c3-4bda-9b06-9f79f0fb58aa"
      },
      "outputs": [
        {
          "data": {
            "text/plain": [
              "{'gold': [500, 50],\n",
              " 'pouch': ['flint', 'twine', 'gemstone'],\n",
              " 'backpack': ['bedroll', 'bread loaf', 'xylophone'],\n",
              " 'pocket': ['seashell', 'strange', 'berry', 'lint']}"
            ]
          },
          "execution_count": 317,
          "metadata": {},
          "output_type": "execute_result"
        }
      ],
      "source": [
        "inventory['gold'] = [inventory['gold'], 50]\n",
        "inventory"
      ]
    },
    {
      "cell_type": "markdown",
      "metadata": {
        "id": "0-ndERkpyU2w"
      },
      "source": [
        "30 - Crea un diccionario llamado 'precios'. \n",
        "\n",
        "- Añade los siguientes elementos al diccionario:\n",
        "\"plátano\": 4,\n",
        "\"manzana\": 2,\n",
        "\"naranja\": 1.5,\n",
        "\"pera\": 3\n",
        "\n",
        "- Crea un diccionario llamado stock con la siguiente información:\n",
        "\"plátano\": 6,\n",
        "\"manzana\": 0,\n",
        "\"naranja\": 32,\n",
        "\"pera\": 12\n",
        "- Calcula el dinero que ganarías si vendieses todo tu stock al precio marcado\n"
      ]
    },
    {
      "cell_type": "code",
      "execution_count": 2,
      "metadata": {
        "id": "dbB8J4QfyU2x"
      },
      "outputs": [],
      "source": [
        "precios = {}"
      ]
    },
    {
      "cell_type": "code",
      "execution_count": 3,
      "metadata": {
        "colab": {
          "base_uri": "https://localhost:8080/"
        },
        "id": "_Knq0NX7yU2y",
        "outputId": "7f88160d-47e0-48a6-8bd2-9e81e83875e3"
      },
      "outputs": [
        {
          "output_type": "execute_result",
          "data": {
            "text/plain": [
              "{'plátano': 4, 'manzana': 2, 'naranja': 1.5, 'pera': 3}"
            ]
          },
          "metadata": {},
          "execution_count": 3
        }
      ],
      "source": [
        "precios[\"plátano\"] = 4 \n",
        "precios[\"manzana\"] = 2\n",
        "precios[\"naranja\"] = 1.5\n",
        "precios[\"pera\"] = 3\n",
        "precios"
      ]
    },
    {
      "cell_type": "code",
      "execution_count": 4,
      "metadata": {
        "colab": {
          "base_uri": "https://localhost:8080/"
        },
        "id": "43R6yTpbyU2z",
        "outputId": "a6f2efce-9060-4d16-aae5-2a294cfcc929"
      },
      "outputs": [
        {
          "output_type": "execute_result",
          "data": {
            "text/plain": [
              "{'plátano': 6, 'manzana': 0, 'naranja': 32, 'pera': 12}"
            ]
          },
          "metadata": {},
          "execution_count": 4
        }
      ],
      "source": [
        "stock = {\"plátano\": 6, \"manzana\": 0, \"naranja\": 32, \"pera\": 12}\n",
        "stock"
      ]
    },
    {
      "cell_type": "code",
      "execution_count": 5,
      "metadata": {
        "colab": {
          "base_uri": "https://localhost:8080/"
        },
        "id": "NwaE9OR1yU20",
        "outputId": "af8e75f1-c4b6-4547-9f01-22b57d16b865"
      },
      "outputs": [
        {
          "output_type": "stream",
          "name": "stdout",
          "text": [
            "fruta: pera \n",
            "precio: 12 \n",
            "stock: 3\n"
          ]
        }
      ],
      "source": [
        "fruta = 'pera'\n",
        "print('fruta: %s \\nprecio: %d \\nstock: %d'%(fruta, stock[fruta], precios[fruta]))"
      ]
    },
    {
      "cell_type": "code",
      "source": [
        "sum((stock['plátano']*precios['plátano'],stock['pera']*precios['pera'],stock['manzana']*precios['manzana'],stock['naranja']*precios['naranja']))"
      ],
      "metadata": {
        "colab": {
          "base_uri": "https://localhost:8080/"
        },
        "id": "12RzRPKwzDFZ",
        "outputId": "cd6c5759-6c42-4be7-8e7d-b7cde824dbf0"
      },
      "execution_count": 11,
      "outputs": [
        {
          "output_type": "execute_result",
          "data": {
            "text/plain": [
              "108.0"
            ]
          },
          "metadata": {},
          "execution_count": 11
        }
      ]
    }
  ],
  "metadata": {
    "kernelspec": {
      "display_name": "Python 3",
      "language": "python",
      "name": "python3"
    },
    "language_info": {
      "codemirror_mode": {
        "name": "ipython",
        "version": 3
      },
      "file_extension": ".py",
      "mimetype": "text/x-python",
      "name": "python",
      "nbconvert_exporter": "python",
      "pygments_lexer": "ipython3",
      "version": "3.8.5"
    },
    "latex_envs": {
      "LaTeX_envs_menu_present": true,
      "autoclose": false,
      "autocomplete": true,
      "bibliofile": "biblio.bib",
      "cite_by": "apalike",
      "current_citInitial": 1,
      "eqLabelWithNumbers": true,
      "eqNumInitial": 1,
      "hotkeys": {
        "equation": "Ctrl-E",
        "itemize": "Ctrl-I"
      },
      "labels_anchors": false,
      "latex_user_defs": false,
      "report_style_numbering": false,
      "user_envs_cfg": false
    },
    "toc": {
      "base_numbering": 1,
      "nav_menu": {},
      "number_sections": true,
      "sideBar": true,
      "skip_h1_title": false,
      "title_cell": "Table of Contents",
      "title_sidebar": "Contents",
      "toc_cell": false,
      "toc_position": {
        "height": "calc(100% - 180px)",
        "left": "10px",
        "top": "150px",
        "width": "418.3831481933594px"
      },
      "toc_section_display": true,
      "toc_window_display": false
    },
    "varInspector": {
      "cols": {
        "lenName": 16,
        "lenType": 16,
        "lenVar": 40
      },
      "kernels_config": {
        "python": {
          "delete_cmd_postfix": "",
          "delete_cmd_prefix": "del ",
          "library": "var_list.py",
          "varRefreshCmd": "print(var_dic_list())"
        },
        "r": {
          "delete_cmd_postfix": ") ",
          "delete_cmd_prefix": "rm(",
          "library": "var_list.r",
          "varRefreshCmd": "cat(var_dic_list()) "
        }
      },
      "types_to_exclude": [
        "module",
        "function",
        "builtin_function_or_method",
        "instance",
        "_Feature"
      ],
      "window_display": false
    },
    "colab": {
      "provenance": []
    }
  },
  "nbformat": 4,
  "nbformat_minor": 0
}